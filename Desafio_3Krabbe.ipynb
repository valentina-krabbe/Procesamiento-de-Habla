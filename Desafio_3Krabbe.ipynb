{
  "cells": [
    {
      "cell_type": "markdown",
      "source": [
        "#**Krabbe Valentina- 45207992**"
      ],
      "metadata": {
        "id": "w3oRo9E3iIj2"
      }
    },
    {
      "cell_type": "markdown",
      "metadata": {
        "id": "zq6j8LsYq1Dr"
      },
      "source": [
        "### Vectorización de texto y modelo de clasificación Naïve Bayes con el dataset 20 newsgroups"
      ]
    },
    {
      "cell_type": "code",
      "execution_count": 1,
      "metadata": {
        "id": "l7cXR6CI30ry"
      },
      "outputs": [],
      "source": [
        "from sklearn.feature_extraction.text import CountVectorizer, TfidfVectorizer\n",
        "from sklearn.metrics.pairwise import cosine_similarity\n",
        "from sklearn.naive_bayes import MultinomialNB, ComplementNB\n",
        "from sklearn.metrics import f1_score\n",
        "\n",
        "# 20newsgroups por ser un dataset clásico de NLP ya viene incluido y formateado\n",
        "# en sklearn\n",
        "from sklearn.datasets import fetch_20newsgroups\n",
        "import numpy as np"
      ]
    },
    {
      "cell_type": "markdown",
      "metadata": {
        "id": "yD-pVDWV_rQc"
      },
      "source": [
        "## Carga de datos"
      ]
    },
    {
      "cell_type": "code",
      "execution_count": 2,
      "metadata": {
        "id": "Ech9qJaUo9vK"
      },
      "outputs": [],
      "source": [
        "# cargamos los datos (ya separados de forma predeterminada en train y test)\n",
        "newsgroups_train = fetch_20newsgroups(subset='train', remove=('headers', 'footers', 'quotes'))\n",
        "newsgroups_test = fetch_20newsgroups(subset='test', remove=('headers', 'footers', 'quotes'))"
      ]
    },
    {
      "cell_type": "markdown",
      "metadata": {
        "id": "UxjSI7su_uWI"
      },
      "source": [
        "## Vectorización"
      ]
    },
    {
      "cell_type": "code",
      "execution_count": 3,
      "metadata": {
        "id": "-94VP0QYCzDn"
      },
      "outputs": [],
      "source": [
        "# instanciamos un vectorizador\n",
        "# ver diferentes parámetros de instanciación en la documentación de sklearn\n",
        "tfidfvect = TfidfVectorizer()"
      ]
    },
    {
      "cell_type": "code",
      "execution_count": 4,
      "metadata": {
        "colab": {
          "base_uri": "https://localhost:8080/",
          "height": 122
        },
        "id": "ftPlyanuak8n",
        "outputId": "9963001e-38e8-4fa8-baa5-1839a90c909d"
      },
      "outputs": [
        {
          "output_type": "execute_result",
          "data": {
            "text/plain": [
              "'I was wondering if anyone out there could enlighten me on this car I saw\\nthe other day. It was a 2-door sports car, looked to be from the late 60s/\\nearly 70s. It was called a Bricklin. The doors were really small. In addition,\\nthe front bumper was separate from the rest of the body. This is \\nall I know. If anyone can tellme a model name, engine specs, years\\nof production, where this car is made, history, or whatever info you\\nhave on this funky looking car, please e-mail.'"
            ],
            "application/vnd.google.colaboratory.intrinsic+json": {
              "type": "string"
            }
          },
          "metadata": {},
          "execution_count": 4
        }
      ],
      "source": [
        "# en el atributo `data` accedemos al texto\n",
        "newsgroups_train.data[0]"
      ]
    },
    {
      "cell_type": "code",
      "execution_count": 5,
      "metadata": {
        "id": "1zxcXV6aC_oL"
      },
      "outputs": [],
      "source": [
        "# con la interfaz habitual de sklearn podemos fitear el vectorizador\n",
        "# (obtener el vocabulario y calcular el vector IDF)\n",
        "# y transformar directamente los datos\n",
        "X_train = tfidfvect.fit_transform(newsgroups_train.data)\n",
        "# `X_train` la podemos denominar como la matriz documento-término"
      ]
    },
    {
      "cell_type": "code",
      "execution_count": 6,
      "metadata": {
        "colab": {
          "base_uri": "https://localhost:8080/"
        },
        "id": "4Sv7TXbda41-",
        "outputId": "a3571a74-15cb-4bbb-a923-9e76b4049c22"
      },
      "outputs": [
        {
          "output_type": "stream",
          "name": "stdout",
          "text": [
            "<class 'scipy.sparse._csr.csr_matrix'>\n",
            "shape: (11314, 101631)\n",
            "cantidad de documentos: 11314\n",
            "tamaño del vocabulario (dimensionalidad de los vectores): 101631\n"
          ]
        }
      ],
      "source": [
        "# recordar que las vectorizaciones por conteos son esparsas\n",
        "# por ello sklearn convenientemente devuelve los vectores de documentos\n",
        "# como matrices esparsas\n",
        "print(type(X_train))\n",
        "print(f'shape: {X_train.shape}')\n",
        "print(f'cantidad de documentos: {X_train.shape[0]}')\n",
        "print(f'tamaño del vocabulario (dimensionalidad de los vectores): {X_train.shape[1]}')"
      ]
    },
    {
      "cell_type": "code",
      "execution_count": 7,
      "metadata": {
        "colab": {
          "base_uri": "https://localhost:8080/"
        },
        "id": "dgydNTZ2pAgR",
        "outputId": "457ad86d-a668-48e7-9eaa-f6399689c7d7"
      },
      "outputs": [
        {
          "output_type": "execute_result",
          "data": {
            "text/plain": [
              "25775"
            ]
          },
          "metadata": {},
          "execution_count": 7
        }
      ],
      "source": [
        "# una vez ajustado el vectorizador, podemos acceder a atributos como el vocabulario\n",
        "# aprendido. Es un diccionario que va de términos a índices.\n",
        "# El índice es la posición en el vector de documento.\n",
        "tfidfvect.vocabulary_['car']"
      ]
    },
    {
      "cell_type": "code",
      "execution_count": 8,
      "metadata": {
        "id": "xnTSZuvyrTcP"
      },
      "outputs": [],
      "source": [
        "# es muy útil tener el diccionario opuesto que va de índices a términos\n",
        "idx2word = {v: k for k,v in tfidfvect.vocabulary_.items()}"
      ]
    },
    {
      "cell_type": "code",
      "execution_count": 9,
      "metadata": {
        "colab": {
          "base_uri": "https://localhost:8080/"
        },
        "id": "swa-AgWrMSHM",
        "outputId": "4a6b4cdd-2c41-4799-f13c-fc83ec9a9ed8"
      },
      "outputs": [
        {
          "output_type": "execute_result",
          "data": {
            "text/plain": [
              "array([ 7,  4,  4,  1, 14, 16, 13,  3,  2,  4])"
            ]
          },
          "metadata": {},
          "execution_count": 9
        }
      ],
      "source": [
        "# en `y_train` guardamos los targets que son enteros\n",
        "y_train = newsgroups_train.target\n",
        "y_train[:10]"
      ]
    },
    {
      "cell_type": "code",
      "execution_count": 10,
      "metadata": {
        "colab": {
          "base_uri": "https://localhost:8080/"
        },
        "id": "je5kxvQMDLvf",
        "outputId": "12fc3abe-2400-4742-9313-b613fb447f04"
      },
      "outputs": [
        {
          "output_type": "stream",
          "name": "stdout",
          "text": [
            "clases [ 0  1  2  3  4  5  6  7  8  9 10 11 12 13 14 15 16 17 18 19]\n"
          ]
        },
        {
          "output_type": "execute_result",
          "data": {
            "text/plain": [
              "['alt.atheism',\n",
              " 'comp.graphics',\n",
              " 'comp.os.ms-windows.misc',\n",
              " 'comp.sys.ibm.pc.hardware',\n",
              " 'comp.sys.mac.hardware',\n",
              " 'comp.windows.x',\n",
              " 'misc.forsale',\n",
              " 'rec.autos',\n",
              " 'rec.motorcycles',\n",
              " 'rec.sport.baseball',\n",
              " 'rec.sport.hockey',\n",
              " 'sci.crypt',\n",
              " 'sci.electronics',\n",
              " 'sci.med',\n",
              " 'sci.space',\n",
              " 'soc.religion.christian',\n",
              " 'talk.politics.guns',\n",
              " 'talk.politics.mideast',\n",
              " 'talk.politics.misc',\n",
              " 'talk.religion.misc']"
            ]
          },
          "metadata": {},
          "execution_count": 10
        }
      ],
      "source": [
        "# hay 20 clases correspondientes a los 20 grupos de noticias\n",
        "print(f'clases {np.unique(newsgroups_test.target)}')\n",
        "newsgroups_test.target_names"
      ]
    },
    {
      "cell_type": "markdown",
      "metadata": {
        "id": "SXCICFSd_y90"
      },
      "source": [
        "## Similaridad de documentos"
      ]
    },
    {
      "cell_type": "code",
      "execution_count": 11,
      "metadata": {
        "colab": {
          "base_uri": "https://localhost:8080/"
        },
        "id": "_pki_olShnyE",
        "outputId": "1a59f1d1-48f4-4d5f-bb66-7719e7b50585"
      },
      "outputs": [
        {
          "output_type": "stream",
          "name": "stdout",
          "text": [
            "THE WHITE HOUSE\n",
            "\n",
            "                  Office of the Press Secretary\n",
            "                   (Pittsburgh, Pennslyvania)\n",
            "______________________________________________________________\n",
            "For Immediate Release                         April 17, 1993     \n",
            "\n",
            "             \n",
            "                  RADIO ADDRESS TO THE NATION \n",
            "                        BY THE PRESIDENT\n",
            "             \n",
            "                Pittsburgh International Airport\n",
            "                    Pittsburgh, Pennsylvania\n",
            "             \n",
            "             \n",
            "10:06 A.M. EDT\n",
            "             \n",
            "             \n",
            "             THE PRESIDENT:  Good morning.  My voice is coming to\n",
            "you this morning through the facilities of the oldest radio\n",
            "station in America, KDKA in Pittsburgh.  I'm visiting the city to\n",
            "meet personally with citizens here to discuss my plans for jobs,\n",
            "health care and the economy.  But I wanted first to do my weekly\n",
            "broadcast with the American people. \n",
            "             \n",
            "             I'm told this station first broadcast in 1920 when\n",
            "it reported that year's presidential elections.  Over the past\n",
            "seven decades presidents have found ways to keep in touch with\n",
            "the people, from whistle-stop tours to fire-side chats to the bus\n",
            "tour that I adopted, along with Vice President Gore, in last\n",
            "year's campaign.\n",
            "             \n",
            "             Every Saturday morning I take this time to talk with\n",
            "you, my fellow Americans, about the problems on your minds and\n",
            "what I'm doing to try and solve them.  It's my way of reporting\n",
            "to you and of giving you a way to hold me accountable.\n",
            "             \n",
            "             You sent me to Washington to get our government and\n",
            "economy moving after years of paralysis and policy and a bad\n",
            "experiment with trickle-down economics.  You know how important\n",
            "it is for us to make bold, comprehensive changes in the way we do\n",
            "business.  \n",
            "             \n",
            "             We live in a competitive global economy.  Nations\n",
            "rise and fall on the skills of their workers, the competitiveness\n",
            "of their companies, the imagination of their industries, and the\n",
            "cooperative experience and spirit that exists between business,\n",
            "labor and government.  Although many of the economies of the\n",
            "industrialized world are now suffering from slow growth, they've\n",
            "made many of the smart investments and the tough choices which\n",
            "our government has for too long ignored.  That's why many of them\n",
            "have been moving ahead and too many of our people have been\n",
            "falling behind.\n",
            "             \n",
            "             We have an economy today that even when it grows is\n",
            "not producing new jobs.  We've increased the debt of our nation\n",
            "by four times over the last 12 years, and we don't have much to\n",
            "show for it.  We know that wages of most working people have\n",
            "stopped rising, that most people are working longer work weeks\n",
            "and that too many families can no longer afford the escalating\n",
            "cost of health care.\n",
            "             \n",
            "             But we also know that, given the right tools, the\n",
            "right incentives and the right encouragement, our workers and\n",
            "businesses can make the kinds of products and profits our economy\n",
            "needs to expand opportunity and to make our communities better\n",
            "places to live.\n",
            "             \n",
            "             In many critical products today Americans are the\n",
            "low cost, high quality producers.  Our task is to make sure that\n",
            "we create more of those kinds of jobs.\n",
            "             \n",
            "             Just two months ago I gave Congress my plan for\n",
            "long-term jobs and economic growth.  It changes the old\n",
            "priorities in Washington and puts our emphasis where it needs to\n",
            "be -- on people's real needs, on increasing investments and jobs\n",
            "and education, on cutting the federal deficit, on stopping the\n",
            "waste which pays no dividends, and redirecting our precious\n",
            "resources toward investment that creates jobs now and lays the\n",
            "groundwork for robust economic growth in the future.\n",
            "             \n",
            "             These new directions passed the Congress in record\n",
            "time and created a new sense of hope and opportunity in our\n",
            "country.  Then the jobs plan I presented to Congress, which would\n",
            "create hundreds of thousands of jobs, most of them in the private\n",
            "sector in 1993 and 1994, passed the House of Representatives.  It\n",
            "now has the support of a majority of the United States Senate. \n",
            "But it's been held up by a filibuster of a minority in the\n",
            "Senate, just 43 senators.  They blocked a vote that they know\n",
            "would result in the passage of our bill and the creation of jobs.\n",
            "             \n",
            "             The issue isn't politics; the issue is people. \n",
            "Millions of Americans are waiting for this legislation and\n",
            "counting on it, counting on us in Washington.  But the jobs bill\n",
            "has been grounded by gridlock.  \n",
            "             \n",
            "             I know the American people are tired of business as\n",
            "usual and politics as usual.  I know they don't want us to spin\n",
            "or wheels.  They want the recovery to get moving.  So I have\n",
            "taken a first step to break this gridlock and gone the extra\n",
            "mile.  Yesterday I offered to cut the size of this plan by 25\n",
            "percent -- from $16 billion to $12 billion.  \n",
            "             \n",
            "             It's not what I'd hoped for.  With 16 million\n",
            "Americans looking for full-time work, I simply can't let the bill\n",
            "languish when I know that even a compromise bill will mean\n",
            "hundreds of thousands of jobs for our people.  The mandate is to\n",
            "act to achieve change and move the country forward.  By taking\n",
            "this initiative in the face of an unrelenting Senate talkathon, I\n",
            "think we can respond to your mandate and achieve a significant\n",
            "portion of our original goals.\n",
            "             \n",
            "             First, we want to keep the programs as much as\n",
            "possible that are needed to generate jobs and meet human needs,\n",
            "including highway and road construction, summer jobs for young\n",
            "people, immunization for children, construction of waste water\n",
            "sites, and aid to small businesses.  We also want to keep funding\n",
            "for extended unemployment compensation benefits, for people who\n",
            "have been unemployed for a long time because the economy isn't\n",
            "creating jobs.\n",
            "             \n",
            "             Second, I've recommended that all the other programs\n",
            "in the bill be cut across-the-board by a little more than 40\n",
            "percent.\n",
            "             \n",
            "             And third, I've recommended a new element in this\n",
            "program to help us immediately start our attempt to fight against\n",
            "crime by providing $200 million for cities and towns to rehire\n",
            "police officers who lost their jobs during the recession and put\n",
            "them back to work protecting our people.  I'm also going to fight\n",
            "for a tough crime bill because the people of this country need it\n",
            "and deserve it.\n",
            "             \n",
            "             Now, the people who are filibustering this bill --\n",
            "the Republican senators -- say they won't vote for it because it\n",
            "increases deficit spending, because there's extra spending this\n",
            "year that hasn't already been approved.  That sounds reasonable,\n",
            "doesn't it?  Here's what they don't say.  This program is more\n",
            "than paid for by budget cuts over my five-year budget, and this\n",
            "budget is well within the spending limits already approved by the\n",
            "Congress this year.\n",
            "             \n",
            "             It's amazing to me that many of these same senators\n",
            "who are filibustering the bill voted during the previous\n",
            "administration for billions of dollars of the same kind of\n",
            "emergency spending, and much of it was not designed to put the\n",
            "American people to work.  \n",
            "             \n",
            "             This is not about deficit spending.  We have offered\n",
            "a plan to cut the deficit.  This is about where your priorities\n",
            "are -- on people or on politics.  \n",
            "             \n",
            "             Keep in mind that our jobs bill is paid for dollar\n",
            "for dollar.  It is paid for by budget cuts.  And it's the\n",
            "soundest investment we can now make for ourselves and our\n",
            "children.  I urge all Americans to take another look at this jobs\n",
            "and investment program; to consider again the benefits for all of\n",
            "us when we've helped make more American partners working to\n",
            "ensure the future of our nation and the strength of our economy.\n",
            "             \n",
            "             You know, if every American who wanted a job had\n",
            "one, we wouldn't have a lot of the other problems we have in this\n",
            "country today.  This bill is not a miracle, it's a modest first\n",
            "step to try to set off a job creation explosion in this country\n",
            "again.  But it's a step we ought to take.  And it is fully paid\n",
            "for over the life of our budget.\n",
            "             \n",
            "             Tell your lawmakers what you think.  Tell them how\n",
            "important the bill is.  If it passes, we'll all be winners.\n",
            "             \n",
            "             Good morning, and thank you for listening.\n"
          ]
        }
      ],
      "source": [
        "# Veamos similaridad de documentos. Tomemos algún documento\n",
        "idx = 4811\n",
        "print(newsgroups_train.data[idx])"
      ]
    },
    {
      "cell_type": "code",
      "execution_count": 12,
      "metadata": {
        "id": "Ssa9bqJ-hA_v"
      },
      "outputs": [],
      "source": [
        "# midamos la similaridad coseno con todos los documentos de train\n",
        "cossim = cosine_similarity(X_train[idx], X_train)[0]"
      ]
    },
    {
      "cell_type": "code",
      "source": [
        "cossim"
      ],
      "metadata": {
        "id": "qQWdijV_-ClO",
        "outputId": "ae51a089-e18e-4cb6-bb45-a96073df48d9",
        "colab": {
          "base_uri": "https://localhost:8080/"
        }
      },
      "execution_count": 13,
      "outputs": [
        {
          "output_type": "execute_result",
          "data": {
            "text/plain": [
              "array([0.1382319 , 0.1067036 , 0.23029327, ..., 0.12320753, 0.08765353,\n",
              "       0.04415046])"
            ]
          },
          "metadata": {},
          "execution_count": 13
        }
      ]
    },
    {
      "cell_type": "code",
      "execution_count": 14,
      "metadata": {
        "colab": {
          "base_uri": "https://localhost:8080/"
        },
        "id": "p_mDA7p3AzcQ",
        "outputId": "faa31aa4-0327-4786-d305-f7c1a7c88b7c"
      },
      "outputs": [
        {
          "output_type": "execute_result",
          "data": {
            "text/plain": [
              "array([1.        , 0.70930477, 0.67474953, ..., 0.        , 0.        ,\n",
              "       0.        ])"
            ]
          },
          "metadata": {},
          "execution_count": 14
        }
      ],
      "source": [
        "# podemos ver los valores de similaridad ordenados de mayor a menos\n",
        "np.sort(cossim)[::-1]"
      ]
    },
    {
      "cell_type": "code",
      "execution_count": 15,
      "metadata": {
        "colab": {
          "base_uri": "https://localhost:8080/"
        },
        "id": "0OIhDA1jAryX",
        "outputId": "00f0664d-fd26-40ad-eb8a-47fd8c9bbaf8"
      },
      "outputs": [
        {
          "output_type": "execute_result",
          "data": {
            "text/plain": [
              "array([4811, 6635, 4253, ..., 9019, 9016, 8748])"
            ]
          },
          "metadata": {},
          "execution_count": 15
        }
      ],
      "source": [
        "# y a qué documentos corresponden\n",
        "np.argsort(cossim)[::-1]"
      ]
    },
    {
      "cell_type": "code",
      "execution_count": 16,
      "metadata": {
        "id": "hP7qLS4ZBLps"
      },
      "outputs": [],
      "source": [
        "# los 5 documentos más similares:\n",
        "mostsim = np.argsort(cossim)[::-1][1:6]"
      ]
    },
    {
      "cell_type": "code",
      "execution_count": 17,
      "metadata": {
        "colab": {
          "base_uri": "https://localhost:8080/",
          "height": 36
        },
        "id": "QdJLHPJACvaj",
        "outputId": "1db5e964-5ed5-40d5-9d41-d00658a83526"
      },
      "outputs": [
        {
          "output_type": "execute_result",
          "data": {
            "text/plain": [
              "'talk.politics.misc'"
            ],
            "application/vnd.google.colaboratory.intrinsic+json": {
              "type": "string"
            }
          },
          "metadata": {},
          "execution_count": 17
        }
      ],
      "source": [
        "# el documento original pertenece a la clase:\n",
        "newsgroups_train.target_names[y_train[idx]]"
      ]
    },
    {
      "cell_type": "code",
      "execution_count": 18,
      "metadata": {
        "colab": {
          "base_uri": "https://localhost:8080/"
        },
        "id": "RWy_73epCbFG",
        "outputId": "67cb11c1-716e-4955-bcd7-74ce36bd4acc"
      },
      "outputs": [
        {
          "output_type": "stream",
          "name": "stdout",
          "text": [
            "talk.politics.misc\n",
            "talk.politics.misc\n",
            "talk.politics.misc\n",
            "talk.politics.misc\n",
            "talk.politics.misc\n"
          ]
        }
      ],
      "source": [
        "# y los 5 más similares son de las clases:\n",
        "for i in mostsim:\n",
        "  print(newsgroups_train.target_names[y_train[i]])"
      ]
    },
    {
      "cell_type": "markdown",
      "metadata": {
        "id": "zRoNnKwhBqzq"
      },
      "source": [
        "### Modelo de clasificación Naïve Bayes"
      ]
    },
    {
      "cell_type": "code",
      "execution_count": 19,
      "metadata": {
        "colab": {
          "base_uri": "https://localhost:8080/",
          "height": 80
        },
        "id": "TPM0thDaLk0R",
        "outputId": "ce7b4984-51ca-409e-88ad-a49e3c855964"
      },
      "outputs": [
        {
          "output_type": "execute_result",
          "data": {
            "text/plain": [
              "MultinomialNB()"
            ],
            "text/html": [
              "<style>#sk-container-id-1 {\n",
              "  /* Definition of color scheme common for light and dark mode */\n",
              "  --sklearn-color-text: #000;\n",
              "  --sklearn-color-text-muted: #666;\n",
              "  --sklearn-color-line: gray;\n",
              "  /* Definition of color scheme for unfitted estimators */\n",
              "  --sklearn-color-unfitted-level-0: #fff5e6;\n",
              "  --sklearn-color-unfitted-level-1: #f6e4d2;\n",
              "  --sklearn-color-unfitted-level-2: #ffe0b3;\n",
              "  --sklearn-color-unfitted-level-3: chocolate;\n",
              "  /* Definition of color scheme for fitted estimators */\n",
              "  --sklearn-color-fitted-level-0: #f0f8ff;\n",
              "  --sklearn-color-fitted-level-1: #d4ebff;\n",
              "  --sklearn-color-fitted-level-2: #b3dbfd;\n",
              "  --sklearn-color-fitted-level-3: cornflowerblue;\n",
              "\n",
              "  /* Specific color for light theme */\n",
              "  --sklearn-color-text-on-default-background: var(--sg-text-color, var(--theme-code-foreground, var(--jp-content-font-color1, black)));\n",
              "  --sklearn-color-background: var(--sg-background-color, var(--theme-background, var(--jp-layout-color0, white)));\n",
              "  --sklearn-color-border-box: var(--sg-text-color, var(--theme-code-foreground, var(--jp-content-font-color1, black)));\n",
              "  --sklearn-color-icon: #696969;\n",
              "\n",
              "  @media (prefers-color-scheme: dark) {\n",
              "    /* Redefinition of color scheme for dark theme */\n",
              "    --sklearn-color-text-on-default-background: var(--sg-text-color, var(--theme-code-foreground, var(--jp-content-font-color1, white)));\n",
              "    --sklearn-color-background: var(--sg-background-color, var(--theme-background, var(--jp-layout-color0, #111)));\n",
              "    --sklearn-color-border-box: var(--sg-text-color, var(--theme-code-foreground, var(--jp-content-font-color1, white)));\n",
              "    --sklearn-color-icon: #878787;\n",
              "  }\n",
              "}\n",
              "\n",
              "#sk-container-id-1 {\n",
              "  color: var(--sklearn-color-text);\n",
              "}\n",
              "\n",
              "#sk-container-id-1 pre {\n",
              "  padding: 0;\n",
              "}\n",
              "\n",
              "#sk-container-id-1 input.sk-hidden--visually {\n",
              "  border: 0;\n",
              "  clip: rect(1px 1px 1px 1px);\n",
              "  clip: rect(1px, 1px, 1px, 1px);\n",
              "  height: 1px;\n",
              "  margin: -1px;\n",
              "  overflow: hidden;\n",
              "  padding: 0;\n",
              "  position: absolute;\n",
              "  width: 1px;\n",
              "}\n",
              "\n",
              "#sk-container-id-1 div.sk-dashed-wrapped {\n",
              "  border: 1px dashed var(--sklearn-color-line);\n",
              "  margin: 0 0.4em 0.5em 0.4em;\n",
              "  box-sizing: border-box;\n",
              "  padding-bottom: 0.4em;\n",
              "  background-color: var(--sklearn-color-background);\n",
              "}\n",
              "\n",
              "#sk-container-id-1 div.sk-container {\n",
              "  /* jupyter's `normalize.less` sets `[hidden] { display: none; }`\n",
              "     but bootstrap.min.css set `[hidden] { display: none !important; }`\n",
              "     so we also need the `!important` here to be able to override the\n",
              "     default hidden behavior on the sphinx rendered scikit-learn.org.\n",
              "     See: https://github.com/scikit-learn/scikit-learn/issues/21755 */\n",
              "  display: inline-block !important;\n",
              "  position: relative;\n",
              "}\n",
              "\n",
              "#sk-container-id-1 div.sk-text-repr-fallback {\n",
              "  display: none;\n",
              "}\n",
              "\n",
              "div.sk-parallel-item,\n",
              "div.sk-serial,\n",
              "div.sk-item {\n",
              "  /* draw centered vertical line to link estimators */\n",
              "  background-image: linear-gradient(var(--sklearn-color-text-on-default-background), var(--sklearn-color-text-on-default-background));\n",
              "  background-size: 2px 100%;\n",
              "  background-repeat: no-repeat;\n",
              "  background-position: center center;\n",
              "}\n",
              "\n",
              "/* Parallel-specific style estimator block */\n",
              "\n",
              "#sk-container-id-1 div.sk-parallel-item::after {\n",
              "  content: \"\";\n",
              "  width: 100%;\n",
              "  border-bottom: 2px solid var(--sklearn-color-text-on-default-background);\n",
              "  flex-grow: 1;\n",
              "}\n",
              "\n",
              "#sk-container-id-1 div.sk-parallel {\n",
              "  display: flex;\n",
              "  align-items: stretch;\n",
              "  justify-content: center;\n",
              "  background-color: var(--sklearn-color-background);\n",
              "  position: relative;\n",
              "}\n",
              "\n",
              "#sk-container-id-1 div.sk-parallel-item {\n",
              "  display: flex;\n",
              "  flex-direction: column;\n",
              "}\n",
              "\n",
              "#sk-container-id-1 div.sk-parallel-item:first-child::after {\n",
              "  align-self: flex-end;\n",
              "  width: 50%;\n",
              "}\n",
              "\n",
              "#sk-container-id-1 div.sk-parallel-item:last-child::after {\n",
              "  align-self: flex-start;\n",
              "  width: 50%;\n",
              "}\n",
              "\n",
              "#sk-container-id-1 div.sk-parallel-item:only-child::after {\n",
              "  width: 0;\n",
              "}\n",
              "\n",
              "/* Serial-specific style estimator block */\n",
              "\n",
              "#sk-container-id-1 div.sk-serial {\n",
              "  display: flex;\n",
              "  flex-direction: column;\n",
              "  align-items: center;\n",
              "  background-color: var(--sklearn-color-background);\n",
              "  padding-right: 1em;\n",
              "  padding-left: 1em;\n",
              "}\n",
              "\n",
              "\n",
              "/* Toggleable style: style used for estimator/Pipeline/ColumnTransformer box that is\n",
              "clickable and can be expanded/collapsed.\n",
              "- Pipeline and ColumnTransformer use this feature and define the default style\n",
              "- Estimators will overwrite some part of the style using the `sk-estimator` class\n",
              "*/\n",
              "\n",
              "/* Pipeline and ColumnTransformer style (default) */\n",
              "\n",
              "#sk-container-id-1 div.sk-toggleable {\n",
              "  /* Default theme specific background. It is overwritten whether we have a\n",
              "  specific estimator or a Pipeline/ColumnTransformer */\n",
              "  background-color: var(--sklearn-color-background);\n",
              "}\n",
              "\n",
              "/* Toggleable label */\n",
              "#sk-container-id-1 label.sk-toggleable__label {\n",
              "  cursor: pointer;\n",
              "  display: flex;\n",
              "  width: 100%;\n",
              "  margin-bottom: 0;\n",
              "  padding: 0.5em;\n",
              "  box-sizing: border-box;\n",
              "  text-align: center;\n",
              "  align-items: start;\n",
              "  justify-content: space-between;\n",
              "  gap: 0.5em;\n",
              "}\n",
              "\n",
              "#sk-container-id-1 label.sk-toggleable__label .caption {\n",
              "  font-size: 0.6rem;\n",
              "  font-weight: lighter;\n",
              "  color: var(--sklearn-color-text-muted);\n",
              "}\n",
              "\n",
              "#sk-container-id-1 label.sk-toggleable__label-arrow:before {\n",
              "  /* Arrow on the left of the label */\n",
              "  content: \"▸\";\n",
              "  float: left;\n",
              "  margin-right: 0.25em;\n",
              "  color: var(--sklearn-color-icon);\n",
              "}\n",
              "\n",
              "#sk-container-id-1 label.sk-toggleable__label-arrow:hover:before {\n",
              "  color: var(--sklearn-color-text);\n",
              "}\n",
              "\n",
              "/* Toggleable content - dropdown */\n",
              "\n",
              "#sk-container-id-1 div.sk-toggleable__content {\n",
              "  max-height: 0;\n",
              "  max-width: 0;\n",
              "  overflow: hidden;\n",
              "  text-align: left;\n",
              "  /* unfitted */\n",
              "  background-color: var(--sklearn-color-unfitted-level-0);\n",
              "}\n",
              "\n",
              "#sk-container-id-1 div.sk-toggleable__content.fitted {\n",
              "  /* fitted */\n",
              "  background-color: var(--sklearn-color-fitted-level-0);\n",
              "}\n",
              "\n",
              "#sk-container-id-1 div.sk-toggleable__content pre {\n",
              "  margin: 0.2em;\n",
              "  border-radius: 0.25em;\n",
              "  color: var(--sklearn-color-text);\n",
              "  /* unfitted */\n",
              "  background-color: var(--sklearn-color-unfitted-level-0);\n",
              "}\n",
              "\n",
              "#sk-container-id-1 div.sk-toggleable__content.fitted pre {\n",
              "  /* unfitted */\n",
              "  background-color: var(--sklearn-color-fitted-level-0);\n",
              "}\n",
              "\n",
              "#sk-container-id-1 input.sk-toggleable__control:checked~div.sk-toggleable__content {\n",
              "  /* Expand drop-down */\n",
              "  max-height: 200px;\n",
              "  max-width: 100%;\n",
              "  overflow: auto;\n",
              "}\n",
              "\n",
              "#sk-container-id-1 input.sk-toggleable__control:checked~label.sk-toggleable__label-arrow:before {\n",
              "  content: \"▾\";\n",
              "}\n",
              "\n",
              "/* Pipeline/ColumnTransformer-specific style */\n",
              "\n",
              "#sk-container-id-1 div.sk-label input.sk-toggleable__control:checked~label.sk-toggleable__label {\n",
              "  color: var(--sklearn-color-text);\n",
              "  background-color: var(--sklearn-color-unfitted-level-2);\n",
              "}\n",
              "\n",
              "#sk-container-id-1 div.sk-label.fitted input.sk-toggleable__control:checked~label.sk-toggleable__label {\n",
              "  background-color: var(--sklearn-color-fitted-level-2);\n",
              "}\n",
              "\n",
              "/* Estimator-specific style */\n",
              "\n",
              "/* Colorize estimator box */\n",
              "#sk-container-id-1 div.sk-estimator input.sk-toggleable__control:checked~label.sk-toggleable__label {\n",
              "  /* unfitted */\n",
              "  background-color: var(--sklearn-color-unfitted-level-2);\n",
              "}\n",
              "\n",
              "#sk-container-id-1 div.sk-estimator.fitted input.sk-toggleable__control:checked~label.sk-toggleable__label {\n",
              "  /* fitted */\n",
              "  background-color: var(--sklearn-color-fitted-level-2);\n",
              "}\n",
              "\n",
              "#sk-container-id-1 div.sk-label label.sk-toggleable__label,\n",
              "#sk-container-id-1 div.sk-label label {\n",
              "  /* The background is the default theme color */\n",
              "  color: var(--sklearn-color-text-on-default-background);\n",
              "}\n",
              "\n",
              "/* On hover, darken the color of the background */\n",
              "#sk-container-id-1 div.sk-label:hover label.sk-toggleable__label {\n",
              "  color: var(--sklearn-color-text);\n",
              "  background-color: var(--sklearn-color-unfitted-level-2);\n",
              "}\n",
              "\n",
              "/* Label box, darken color on hover, fitted */\n",
              "#sk-container-id-1 div.sk-label.fitted:hover label.sk-toggleable__label.fitted {\n",
              "  color: var(--sklearn-color-text);\n",
              "  background-color: var(--sklearn-color-fitted-level-2);\n",
              "}\n",
              "\n",
              "/* Estimator label */\n",
              "\n",
              "#sk-container-id-1 div.sk-label label {\n",
              "  font-family: monospace;\n",
              "  font-weight: bold;\n",
              "  display: inline-block;\n",
              "  line-height: 1.2em;\n",
              "}\n",
              "\n",
              "#sk-container-id-1 div.sk-label-container {\n",
              "  text-align: center;\n",
              "}\n",
              "\n",
              "/* Estimator-specific */\n",
              "#sk-container-id-1 div.sk-estimator {\n",
              "  font-family: monospace;\n",
              "  border: 1px dotted var(--sklearn-color-border-box);\n",
              "  border-radius: 0.25em;\n",
              "  box-sizing: border-box;\n",
              "  margin-bottom: 0.5em;\n",
              "  /* unfitted */\n",
              "  background-color: var(--sklearn-color-unfitted-level-0);\n",
              "}\n",
              "\n",
              "#sk-container-id-1 div.sk-estimator.fitted {\n",
              "  /* fitted */\n",
              "  background-color: var(--sklearn-color-fitted-level-0);\n",
              "}\n",
              "\n",
              "/* on hover */\n",
              "#sk-container-id-1 div.sk-estimator:hover {\n",
              "  /* unfitted */\n",
              "  background-color: var(--sklearn-color-unfitted-level-2);\n",
              "}\n",
              "\n",
              "#sk-container-id-1 div.sk-estimator.fitted:hover {\n",
              "  /* fitted */\n",
              "  background-color: var(--sklearn-color-fitted-level-2);\n",
              "}\n",
              "\n",
              "/* Specification for estimator info (e.g. \"i\" and \"?\") */\n",
              "\n",
              "/* Common style for \"i\" and \"?\" */\n",
              "\n",
              ".sk-estimator-doc-link,\n",
              "a:link.sk-estimator-doc-link,\n",
              "a:visited.sk-estimator-doc-link {\n",
              "  float: right;\n",
              "  font-size: smaller;\n",
              "  line-height: 1em;\n",
              "  font-family: monospace;\n",
              "  background-color: var(--sklearn-color-background);\n",
              "  border-radius: 1em;\n",
              "  height: 1em;\n",
              "  width: 1em;\n",
              "  text-decoration: none !important;\n",
              "  margin-left: 0.5em;\n",
              "  text-align: center;\n",
              "  /* unfitted */\n",
              "  border: var(--sklearn-color-unfitted-level-1) 1pt solid;\n",
              "  color: var(--sklearn-color-unfitted-level-1);\n",
              "}\n",
              "\n",
              ".sk-estimator-doc-link.fitted,\n",
              "a:link.sk-estimator-doc-link.fitted,\n",
              "a:visited.sk-estimator-doc-link.fitted {\n",
              "  /* fitted */\n",
              "  border: var(--sklearn-color-fitted-level-1) 1pt solid;\n",
              "  color: var(--sklearn-color-fitted-level-1);\n",
              "}\n",
              "\n",
              "/* On hover */\n",
              "div.sk-estimator:hover .sk-estimator-doc-link:hover,\n",
              ".sk-estimator-doc-link:hover,\n",
              "div.sk-label-container:hover .sk-estimator-doc-link:hover,\n",
              ".sk-estimator-doc-link:hover {\n",
              "  /* unfitted */\n",
              "  background-color: var(--sklearn-color-unfitted-level-3);\n",
              "  color: var(--sklearn-color-background);\n",
              "  text-decoration: none;\n",
              "}\n",
              "\n",
              "div.sk-estimator.fitted:hover .sk-estimator-doc-link.fitted:hover,\n",
              ".sk-estimator-doc-link.fitted:hover,\n",
              "div.sk-label-container:hover .sk-estimator-doc-link.fitted:hover,\n",
              ".sk-estimator-doc-link.fitted:hover {\n",
              "  /* fitted */\n",
              "  background-color: var(--sklearn-color-fitted-level-3);\n",
              "  color: var(--sklearn-color-background);\n",
              "  text-decoration: none;\n",
              "}\n",
              "\n",
              "/* Span, style for the box shown on hovering the info icon */\n",
              ".sk-estimator-doc-link span {\n",
              "  display: none;\n",
              "  z-index: 9999;\n",
              "  position: relative;\n",
              "  font-weight: normal;\n",
              "  right: .2ex;\n",
              "  padding: .5ex;\n",
              "  margin: .5ex;\n",
              "  width: min-content;\n",
              "  min-width: 20ex;\n",
              "  max-width: 50ex;\n",
              "  color: var(--sklearn-color-text);\n",
              "  box-shadow: 2pt 2pt 4pt #999;\n",
              "  /* unfitted */\n",
              "  background: var(--sklearn-color-unfitted-level-0);\n",
              "  border: .5pt solid var(--sklearn-color-unfitted-level-3);\n",
              "}\n",
              "\n",
              ".sk-estimator-doc-link.fitted span {\n",
              "  /* fitted */\n",
              "  background: var(--sklearn-color-fitted-level-0);\n",
              "  border: var(--sklearn-color-fitted-level-3);\n",
              "}\n",
              "\n",
              ".sk-estimator-doc-link:hover span {\n",
              "  display: block;\n",
              "}\n",
              "\n",
              "/* \"?\"-specific style due to the `<a>` HTML tag */\n",
              "\n",
              "#sk-container-id-1 a.estimator_doc_link {\n",
              "  float: right;\n",
              "  font-size: 1rem;\n",
              "  line-height: 1em;\n",
              "  font-family: monospace;\n",
              "  background-color: var(--sklearn-color-background);\n",
              "  border-radius: 1rem;\n",
              "  height: 1rem;\n",
              "  width: 1rem;\n",
              "  text-decoration: none;\n",
              "  /* unfitted */\n",
              "  color: var(--sklearn-color-unfitted-level-1);\n",
              "  border: var(--sklearn-color-unfitted-level-1) 1pt solid;\n",
              "}\n",
              "\n",
              "#sk-container-id-1 a.estimator_doc_link.fitted {\n",
              "  /* fitted */\n",
              "  border: var(--sklearn-color-fitted-level-1) 1pt solid;\n",
              "  color: var(--sklearn-color-fitted-level-1);\n",
              "}\n",
              "\n",
              "/* On hover */\n",
              "#sk-container-id-1 a.estimator_doc_link:hover {\n",
              "  /* unfitted */\n",
              "  background-color: var(--sklearn-color-unfitted-level-3);\n",
              "  color: var(--sklearn-color-background);\n",
              "  text-decoration: none;\n",
              "}\n",
              "\n",
              "#sk-container-id-1 a.estimator_doc_link.fitted:hover {\n",
              "  /* fitted */\n",
              "  background-color: var(--sklearn-color-fitted-level-3);\n",
              "}\n",
              "</style><div id=\"sk-container-id-1\" class=\"sk-top-container\"><div class=\"sk-text-repr-fallback\"><pre>MultinomialNB()</pre><b>In a Jupyter environment, please rerun this cell to show the HTML representation or trust the notebook. <br />On GitHub, the HTML representation is unable to render, please try loading this page with nbviewer.org.</b></div><div class=\"sk-container\" hidden><div class=\"sk-item\"><div class=\"sk-estimator fitted sk-toggleable\"><input class=\"sk-toggleable__control sk-hidden--visually\" id=\"sk-estimator-id-1\" type=\"checkbox\" checked><label for=\"sk-estimator-id-1\" class=\"sk-toggleable__label fitted sk-toggleable__label-arrow\"><div><div>MultinomialNB</div></div><div><a class=\"sk-estimator-doc-link fitted\" rel=\"noreferrer\" target=\"_blank\" href=\"https://scikit-learn.org/1.6/modules/generated/sklearn.naive_bayes.MultinomialNB.html\">?<span>Documentation for MultinomialNB</span></a><span class=\"sk-estimator-doc-link fitted\">i<span>Fitted</span></span></div></label><div class=\"sk-toggleable__content fitted\"><pre>MultinomialNB()</pre></div> </div></div></div></div>"
            ]
          },
          "metadata": {},
          "execution_count": 19
        }
      ],
      "source": [
        "# es muy fácil instanciar un modelo de clasificación Naïve Bayes y entrenarlo con sklearn\n",
        "clf = MultinomialNB()\n",
        "clf.fit(X_train, y_train)"
      ]
    },
    {
      "cell_type": "code",
      "execution_count": 20,
      "metadata": {
        "id": "NrQjzM48Mu4T"
      },
      "outputs": [],
      "source": [
        "# con nuestro vectorizador ya fiteado en train, vectorizamos los textos\n",
        "# del conjunto de test\n",
        "X_test = tfidfvect.transform(newsgroups_test.data)\n",
        "y_test = newsgroups_test.target\n",
        "y_pred =  clf.predict(X_test)"
      ]
    },
    {
      "cell_type": "code",
      "execution_count": 21,
      "metadata": {
        "colab": {
          "base_uri": "https://localhost:8080/"
        },
        "id": "UkGJhetEPdA4",
        "outputId": "897ac31f-aae5-4029-be3a-a9d3bba50c48"
      },
      "outputs": [
        {
          "output_type": "execute_result",
          "data": {
            "text/plain": [
              "0.5854345727938506"
            ]
          },
          "metadata": {},
          "execution_count": 21
        }
      ],
      "source": [
        "# el F1-score es una metrica adecuada para reportar desempeño de modelos de claificación\n",
        "# es robusta al desbalance de clases. El promediado 'macro' es el promedio de los\n",
        "# F1-score de cada clase. El promedio 'micro' es equivalente a la accuracy que no\n",
        "# es una buena métrica cuando los datasets son desbalanceados\n",
        "f1_score(y_test, y_pred, average='macro')"
      ]
    },
    {
      "cell_type": "markdown",
      "metadata": {
        "id": "McArD4rSDR2K"
      },
      "source": [
        "### Consigna del desafío 2"
      ]
    },
    {
      "cell_type": "markdown",
      "source": [],
      "metadata": {
        "id": "sv8kKKGnqBkf"
      }
    },
    {
      "cell_type": "markdown",
      "metadata": {
        "id": "lJgf6GQIIEH1"
      },
      "source": [
        "**1**. Vectorizar documentos. Tomar 5 documentos al azar y medir similaridad con el resto de los documentos.\n",
        "Estudiar los 5 documentos más similares de cada uno analizar si tiene sentido\n",
        "la similaridad según el contenido del texto y la etiqueta de clasificación.\n",
        "\n"
      ]
    },
    {
      "cell_type": "code",
      "source": [
        "#Cargamos los datos (ya separados de forma predeterminada en train y test)\n",
        "news_groups_train = fetch_20newsgroups(subset='train', remove=('headers', 'footers', 'quotes'))\n",
        "news_groups_test = fetch_20newsgroups(subset='test', remove=('headers', 'footers', 'quotes'))"
      ],
      "metadata": {
        "id": "mKT600bpYcY5"
      },
      "execution_count": 22,
      "outputs": []
    },
    {
      "cell_type": "code",
      "source": [
        "#Instanciamos un vectorizador\n",
        "tfidfvect=TfidfVectorizer()"
      ],
      "metadata": {
        "id": "X0eHe99EYddt"
      },
      "execution_count": 23,
      "outputs": []
    },
    {
      "cell_type": "code",
      "source": [
        "#Convertimos los documentos de texto en vectores numericos usando TF-IDF, e indica la importancia de una palabra en un documento\n",
        "X_train=tfidfvect.fit_transform(news_groups_train.data)\n",
        "#Podemos denominar a X_train como la matriz documento-termino."
      ],
      "metadata": {
        "id": "h1AkZtmbYi_3"
      },
      "execution_count": 24,
      "outputs": []
    },
    {
      "cell_type": "code",
      "source": [
        "# recordar que las vectorizaciones por conteos son esparsas\n",
        "# por ello sklearn convenientemente devuelve los vectores de documentos\n",
        "# como matrices esparsas\n",
        "\n",
        "print(type(X_train))\n",
        "print(f'shape: {X_train.shape}')\n",
        "print(f'cantidad de documentos: {X_train.shape[0]}')\n",
        "print(f'tamaño del vocabulario (dimensionalidad de los vectores): {X_train.shape[1]}')"
      ],
      "metadata": {
        "colab": {
          "base_uri": "https://localhost:8080/"
        },
        "id": "AmdxV-MeYkGn",
        "outputId": "b22d6798-7f9f-42dc-8d68-63a9be1a4fdf"
      },
      "execution_count": 25,
      "outputs": [
        {
          "output_type": "stream",
          "name": "stdout",
          "text": [
            "<class 'scipy.sparse._csr.csr_matrix'>\n",
            "shape: (11314, 101631)\n",
            "cantidad de documentos: 11314\n",
            "tamaño del vocabulario (dimensionalidad de los vectores): 101631\n"
          ]
        }
      ]
    },
    {
      "cell_type": "code",
      "source": [
        "# es muy útil tener el diccionario opuesto que va de índices a términos\n",
        "idx2word = {v: k for k,v in tfidfvect.vocabulary_.items()}"
      ],
      "metadata": {
        "id": "LyLDqbA8Ym_D"
      },
      "execution_count": 26,
      "outputs": []
    },
    {
      "cell_type": "code",
      "source": [
        "# en `y_train` guardamos los targets que son enteros\n",
        "y_train = news_groups_train.target\n",
        "y_train[:10]"
      ],
      "metadata": {
        "colab": {
          "base_uri": "https://localhost:8080/"
        },
        "id": "giYb39moYqix",
        "outputId": "a7d0dc13-5334-4b6f-d578-575edfed7943"
      },
      "execution_count": 27,
      "outputs": [
        {
          "output_type": "execute_result",
          "data": {
            "text/plain": [
              "array([ 7,  4,  4,  1, 14, 16, 13,  3,  2,  4])"
            ]
          },
          "metadata": {},
          "execution_count": 27
        }
      ]
    },
    {
      "cell_type": "markdown",
      "source": [
        "##Similaridad de documentos"
      ],
      "metadata": {
        "id": "IF4e5ninYtMV"
      }
    },
    {
      "cell_type": "code",
      "source": [
        "np.random.seed(47)\n",
        "#Seleccionamos 5 documentos aleatorios\n",
        "random_docs=np.random.choice(X_train.shape[0],size=5, replace=False)"
      ],
      "metadata": {
        "id": "p8nyyjGRYuON"
      },
      "execution_count": 33,
      "outputs": []
    },
    {
      "cell_type": "code",
      "source": [
        "for idx in random_docs:\n",
        "  clase=news_groups_train.target[idx]\n",
        "  nombre_clase=news_groups_train.target_names[clase]\n",
        "  print('='*80)\n",
        "  print(f'\\n Documento base {idx} - Clase:{clase}({nombre_clase})')\n",
        "  print(news_groups_train.data[idx][:300],'...\\n')\n",
        "  print('='*80)"
      ],
      "metadata": {
        "colab": {
          "base_uri": "https://localhost:8080/"
        },
        "id": "uqM60OhEYweN",
        "outputId": "7a97a4a6-ef6a-461e-b411-1074209b22b8"
      },
      "execution_count": 34,
      "outputs": [
        {
          "output_type": "stream",
          "name": "stdout",
          "text": [
            "================================================================================\n",
            "\n",
            " Documento base 5073 - Clase:10(rec.sport.hockey)\n",
            "Hi.  According to my always questionable newspaper, there's a silver\n",
            "dollar being minted in Canada, the back of which commemorates the\n",
            "anniversary of the Stanley Cup.  Now, I know full well what coins are\n",
            "used every day in Canada.  I can easily fish a few out of my pocket\n",
            "change right now, in fact.  ...\n",
            "\n",
            "================================================================================\n",
            "================================================================================\n",
            "\n",
            " Documento base 4819 - Clase:13(sci.med)\n",
            "\n",
            "\n",
            "Krillean photography involves taking pictures of minute decapods resident in \n",
            "the seas surrounding the antarctic. Or pictures taken by them, perhaps. ...\n",
            "\n",
            "================================================================================\n",
            "================================================================================\n",
            "\n",
            " Documento base 10919 - Clase:12(sci.electronics)\n",
            "\n",
            "\n",
            "Take a lemon.  Stick a copper strip into the lemon.  Stick a galvanized\n",
            "nail in about 1 to 1-1/2 inches from the copper strip.  You should get\n",
            "about 1/2 volt from it - enough to light an LED.\n",
            "\n",
            "\n",
            " * SLMR 2.1 * Support your medical examiner, die strangely.\n",
            "                      ...\n",
            "\n",
            "================================================================================\n",
            "================================================================================\n",
            "\n",
            " Documento base 5549 - Clase:0(alt.atheism)\n",
            "\n",
            "You're closer than you might imagine.   I certainly despised living\n",
            "under the Soviet regime when it purported to organize society according\n",
            "to what they fondly imagined to be the \"objective\" conclusions of\n",
            "Marxist dialectic.\n",
            "\n",
            "But I don't hate Physics so long as some clown doesn't start trying\n",
            "to co ...\n",
            "\n",
            "================================================================================\n",
            "================================================================================\n",
            "\n",
            " Documento base 8843 - Clase:6(misc.forsale)\n",
            "This is a repost of an earlier.  Thanks to several of you for\n",
            "offering advise on realistic prices.\n",
            "\n",
            "MAC SE/ 2.5 megs ram, 20 meg hard disk, 800 K Floppy.\n",
            "In absolutely perfect condition. \n",
            "\n",
            "Includes Word 5, pagemaker, quark xpress, quicken and the \n",
            "latest versions of about a dozen other programs. ...\n",
            "\n",
            "================================================================================\n"
          ]
        }
      ]
    },
    {
      "cell_type": "code",
      "source": [
        "for idx in random_docs:\n",
        "  #Medimos la similaridad coseno con todos los documentos de train\n",
        "  cossim=cosine_similarity(X_train[idx], X_train)[0]\n",
        "\n",
        "  #5 documentos mas similares:\n",
        "  mostsim=np.argsort(cossim)[::-1][1:6]\n",
        "\n",
        "  for i, sim_idx in enumerate(mostsim): #sim_idx almacena cada resultado del bucle\n",
        "    print('='*80)\n",
        "    print(f'Similar: {i+1} (indice {sim_idx}, similitud {round(cossim[sim_idx],2)})')\n",
        "    print(f'-Categoria: {news_groups_train.target_names[y_train[sim_idx]]}')\n",
        "    print(f'-Preview: {news_groups_train.data[sim_idx][:250]}...\\n')\n"
      ],
      "metadata": {
        "colab": {
          "base_uri": "https://localhost:8080/"
        },
        "id": "tdtefDlBY3Ig",
        "outputId": "9484f170-6e47-4040-9e6a-453f27ee22e1"
      },
      "execution_count": 35,
      "outputs": [
        {
          "output_type": "stream",
          "name": "stdout",
          "text": [
            "================================================================================\n",
            "Similar: 1 (indice 1017, similitud 0.26)\n",
            "-Categoria: rec.autos\n",
            "-Preview: Sayeth sjwyrick@lbl.gov (Steve Wyrick):\n",
            "$Anybody keeping track of how many of these there are?  So far I have\n",
            "$Miata, Tredia, Previa, Sentra, Maxima, Altima, Camry, and Justy, not to\n",
            "$mention Lexus, Acura and Infiniti!  \n",
            "\n",
            "   You're apparently includi...\n",
            "\n",
            "================================================================================\n",
            "Similar: 2 (indice 3568, similitud 0.25)\n",
            "-Categoria: talk.religion.misc\n",
            "-Preview: In <lsjc8cINNmc1@saltillo.cs.utexas.edu> turpin@cs.utexas.edu (Russell Turpin)\n",
            "\n",
            "\n",
            "I regard love as no more or less \"benign\" than any other Christian does.\n",
            "You are merely expressing \"approval\" of the consequences I find therein.\n",
            "Which says more about o...\n",
            "\n",
            "================================================================================\n",
            "Similar: 3 (indice 10836, similitud 0.25)\n",
            "-Categoria: alt.atheism\n",
            "-Preview: Archive-name: atheism/faq\n",
            "Alt-atheism-archive-name: faq\n",
            "Last-modified: 5 April 1993\n",
            "Version: 1.1\n",
            "\n",
            "                    Alt.Atheism Frequently-Asked Questions\n",
            "\n",
            "This file contains responses to articles which occur repeatedly in\n",
            "alt.atheism.  Points cove...\n",
            "\n",
            "================================================================================\n",
            "Similar: 4 (indice 913, similitud 0.24)\n",
            "-Categoria: alt.atheism\n",
            "-Preview: The recent rise of nostalgia in this group, combined with the\n",
            "  incredible level of utter bullshit, has prompted me to comb\n",
            "  through my archives and pull out some of \"The Best of Alt.Atheism\"\n",
            "  for your reading pleasure.  I'll post a couple of these...\n",
            "\n",
            "================================================================================\n",
            "Similar: 5 (indice 8932, similitud 0.24)\n",
            "-Categoria: alt.atheism\n",
            "-Preview:  \n",
            ": There are a couple of things about your post and others in this thread\n",
            ": that are a little confusing. An atheist is one for whom all things can\n",
            ": be understood as processes of nature - exclusively.\n",
            "\n",
            "This definition does not include all atheists (...\n",
            "\n",
            "================================================================================\n",
            "Similar: 1 (indice 10360, similitud 0.26)\n",
            "-Categoria: comp.graphics\n",
            "-Preview: Read Issue #2 of Wired Magazine.  It has a long article on the \"hype\" of\n",
            "3DO.  I've noticed that every article talks with the designers and how\n",
            "\"great\" it is, but never show any pictures of the output (or at least\n",
            "pictures that one can understand)\n",
            "\n",
            "...\n",
            "\n",
            "================================================================================\n",
            "Similar: 2 (indice 8761, similitud 0.26)\n",
            "-Categoria: sci.space\n",
            "-Preview: \n",
            "No, they fold on the dotted line.  Look at pictures of carriers with loads of\n",
            "a/c on the deck, wings all neatly folded....\n",
            "\n",
            "================================================================================\n",
            "Similar: 3 (indice 9874, similitud 0.22)\n",
            "-Categoria: sci.med\n",
            "-Preview: \n",
            ": Living things maintain small electric fields to (1) enhance certain\n",
            ": chemical reactions, (2) promote communication of states with in a\n",
            ": cell, (3) communicate between cells (of which the nervous system is\n",
            ": a specialized example), and perhaps oth...\n",
            "\n",
            "================================================================================\n",
            "Similar: 4 (indice 1698, similitud 0.22)\n",
            "-Categoria: comp.os.ms-windows.misc\n",
            "-Preview: Help, I'm bored with the current Windows backgrounds we have here and am \n",
            "looking for some nifty pictures to use instead.  I've seen from previous posts\n",
            "that many sites exist that store pictures - available through anonymous ftp.\n",
            "Except that I can't ...\n",
            "\n",
            "================================================================================\n",
            "Similar: 5 (indice 10491, similitud 0.21)\n",
            "-Categoria: sci.med\n",
            "-Preview: I think that's the correct spelling..\n",
            "\tI am looking for any information/supplies that will allow\n",
            "do-it-yourselfers to take Krillean Pictures. I'm thinking\n",
            "that education suppliers for schools might have a appartus for\n",
            "sale, but I don't know any of th...\n",
            "\n",
            "================================================================================\n",
            "Similar: 1 (indice 8188, similitud 0.23)\n",
            "-Categoria: sci.electronics\n",
            "-Preview: was\n",
            "to\n",
            "\n",
            "(snip!)\n",
            "\n",
            "I haven't been following this, so I'm sorry if somebody already mentioned  \n",
            "this, but you could grab a lemon (I think potatoes work too, but I'm not  \n",
            "sure), a strip of copper, and a strip of zinc (I think you can get the  \n",
            "metal in ...\n",
            "\n",
            "================================================================================\n",
            "Similar: 2 (indice 5243, similitud 0.21)\n",
            "-Categoria: rec.motorcycles\n",
            "-Preview: \n",
            "  \"May your skin stick to a frozen bed pan\"\n",
            "  \"May your apple juice be mistakenly drawn from the urinalisys\n",
            "lab\"\n",
            "...\n",
            "\n",
            "================================================================================\n",
            "Similar: 3 (indice 964, similitud 0.2)\n",
            "-Categoria: comp.windows.x\n",
            "-Preview: I have a problem where an Athena strip chart widget is not calling it's\n",
            "get value function.  I am pretty sure this is happening because I am\n",
            "not using XtAppMainLoop, but am dealing with events via sockets.  (ya ya).\n",
            "\n",
            "Anyway, I want to cause a timeout...\n",
            "\n",
            "================================================================================\n",
            "Similar: 4 (indice 7946, similitud 0.19)\n",
            "-Categoria: rec.motorcycles\n",
            "-Preview: After reading the service manual for my bike (Suzuki GS500E--1990) I have\n",
            "a couple of questions I hope you can answer:\n",
            "\n",
            "When checking the oil level with the dip stick built into the oil fill\n",
            "cap, does one check it with the cap screwed in or not?  I a...\n",
            "\n",
            "================================================================================\n",
            "Similar: 5 (indice 4578, similitud 0.17)\n",
            "-Categoria: talk.politics.mideast\n",
            "-Preview: From: Center for Policy Research <cpr>\n",
            "Subject: Poem by Erich Fried \n",
            "\n",
            "\n",
            "Poem by German-Jewish poet Erich Fried (Holocaust survivor)\n",
            "\n",
            "Ein Jude an die zionistischen Kaempfer - 1988\n",
            "\n",
            "    von Erich Fried\n",
            "\n",
            "Was wollt ihr eigentlich ?  Wollt ihr wirklich die...\n",
            "\n",
            "================================================================================\n",
            "Similar: 1 (indice 6552, similitud 0.2)\n",
            "-Categoria: talk.religion.misc\n",
            "-Preview: \n",
            "If I have a habit that I really want to break, and I am willing to\n",
            "make whatever sacrifice I need to make to break it, then I do so.\n",
            "There have been bad habits of mine that I've decided to put forth the\n",
            "effort to break, and I've done so; there have ...\n",
            "\n",
            "================================================================================\n",
            "Similar: 2 (indice 10176, similitud 0.2)\n",
            "-Categoria: talk.politics.misc\n",
            "-Preview: \n",
            "\n",
            "\n",
            "I don't understand what you are getting at here.  If the chances of \n",
            "promiscuity are larger, yet the rate of promiscuity is lower in the heterosexual\n",
            "community, doesn't that imply that the homo/bi sexual population is then \n",
            "even more promiscuous t...\n",
            "\n",
            "================================================================================\n",
            "Similar: 3 (indice 5213, similitud 0.19)\n",
            "-Categoria: soc.religion.christian\n",
            "-Preview: In an earlier article, I explained that what many people find arrogant about\n",
            "Christians is that some Christians profess absolute certianty about their\n",
            "beliefs and doctrines.  That is, many Christians insist that they CANNOT have\n",
            "made any mistakes whe...\n",
            "\n",
            "================================================================================\n",
            "Similar: 4 (indice 3616, similitud 0.19)\n",
            "-Categoria: talk.religion.misc\n",
            "-Preview: \n",
            "And I maintain:\n",
            "\n",
            "Some people do not want to enter into the light and the knowledge that\n",
            "they alone are their own masters, because they fear it; they are too\n",
            "afraid of having to face the world on their own terms.  And so, by\n",
            "their own choice, they wi...\n",
            "\n",
            "================================================================================\n",
            "Similar: 5 (indice 4271, similitud 0.18)\n",
            "-Categoria: talk.politics.misc\n",
            "-Preview: THE WHITE HOUSE\n",
            "\n",
            "                    Office of the Press Secretary\n",
            "______________________________________________________________\n",
            "For Immediate Release                             April 13, 1993     \n",
            "\n",
            "\t     \n",
            "                      REMARKS BY THE PRESI...\n",
            "\n",
            "================================================================================\n",
            "Similar: 1 (indice 5955, similitud 0.21)\n",
            "-Categoria: comp.sys.mac.hardware\n",
            "-Preview: I haven't seen much info about how to add an extra internal disk to a\n",
            "mac. We would like to try it, and I wonder if someone had some good\n",
            "advice.\n",
            "\n",
            "We have a Mac IIcx with the original internal Quantum 40MB hard disk,\n",
            "and an unusable floppy drive. We ...\n",
            "\n",
            "================================================================================\n",
            "Similar: 2 (indice 3847, similitud 0.19)\n",
            "-Categoria: comp.sys.ibm.pc.hardware\n",
            "-Preview: Just wanted to ask a question. I bought a hard disk drive second-hand\n",
            "the other day, and I opened the packaging up and saw that there was a small\n",
            "sticker on the drive that had a little red apple with a bite taken out of it.\n",
            "It's socket did not look t...\n",
            "\n",
            "================================================================================\n",
            "Similar: 3 (indice 2701, similitud 0.18)\n",
            "-Categoria: comp.sys.mac.hardware\n",
            "-Preview: With a little luck, I could own a C650 sometime in the near future, and\n",
            "so I was just wondering if someone could clear these two questions up for me:\n",
            "\n",
            "1.  What speed SIMMS does the C650 need/want?  (I know that it needs 80ns\n",
            "VRAM...not sure for the m...\n",
            "\n",
            "================================================================================\n",
            "Similar: 4 (indice 6266, similitud 0.18)\n",
            "-Categoria: comp.sys.ibm.pc.hardware\n",
            "-Preview: I have a 486sx/20, 5 megs RAM, 85 meg harddrive (Stacked to 160 w/Stacker\n",
            "3.0), 3.5 floppy, 3 expansion slots, 2 drive bays, VGA card, no monitor.\n",
            "$650.00 or interesting combination of cash and trade.  Located in Chicago.\n",
            "Please e-mail to this addres...\n",
            "\n",
            "================================================================================\n",
            "Similar: 5 (indice 4652, similitud 0.18)\n",
            "-Categoria: comp.sys.mac.hardware\n",
            "-Preview: Here's a list of 800 numbers I have compiled from other sources... \n",
            "anybody got anything to add?\n",
            "\n",
            "It's formatted for Alpha, and looks fine for me, so don't complain if it \n",
            "doesn't look good to you.\n",
            "\n",
            "\n",
            "\n",
            "  * Adobe\t\t\t\t\t1-415-961-0911\n",
            "\tFAX info\t\t\t\t1-800-2...\n",
            "\n"
          ]
        }
      ]
    },
    {
      "cell_type": "markdown",
      "source": [
        "En cocnlusion seleccionamos 5 documentos al azar del conjunto '20 Newsgroups' y para cada uno se calculo los 5 documentos mas similares.\n",
        "\n",
        "El analisis de similitud muestra que la mayoria de los documentos mas parecidos provienen de categorias imilares, como 'talk.politics.mideast', lo que indica que estan relacionados en tema. Por otro lado lo documentos con meno similitud son de categorias diferentes, como 'misc.forsale' o 'sci.crypt', lo que demuestra que aunque. Esto resalta la importancia de tener en cuenta el contexto y la categoria de los documentos al analizar su similitud."
      ],
      "metadata": {
        "id": "s2eVeVm8Y-OW"
      }
    },
    {
      "cell_type": "markdown",
      "metadata": {
        "id": "o3hirpeJeMMa"
      },
      "source": [
        "\n",
        "**2**. Entrenar modelos de clasificación Naïve Bayes para maximizar el desempeño de clasificación\n",
        "(f1-score macro) en el conjunto de datos de test. Considerar cambiar parámteros\n",
        "de instanciación del vectorizador y los modelos y probar modelos de Naïve Bayes Multinomial\n",
        "y ComplementNB."
      ]
    },
    {
      "cell_type": "code",
      "source": [
        "#Vectorizamos el texto con parametros modificados\n",
        "tfidf_vect=TfidfVectorizer(ngram_range=(1,2),max_features=10000)\n",
        "X_train=tfidf_vect.fit_transform(news_groups_train.data)\n",
        "X_test=tfidf_vect.transform(news_groups_test.data)\n",
        "\n",
        "#Definimos las etiquetas\n",
        "y_train=news_groups_train.target\n",
        "y_test=news_groups_test.target"
      ],
      "metadata": {
        "id": "d3J-3OijZGSx"
      },
      "execution_count": 36,
      "outputs": []
    },
    {
      "cell_type": "code",
      "source": [
        "#Defino valores de alpha a probar\n",
        "alphas=np.round(np.linspace(0.05,0.25,5),3)\n",
        "\n",
        "#Iteramos sobre los valores alpha:\n",
        "for alpha in alphas:\n",
        "  #Instanciamos y entrenamos los dos modelos con el mismo alpha\n",
        "  clf_Mult=MultinomialNB(alpha=alpha)\n",
        "  clf_compl=ComplementNB(alpha=alpha)\n",
        "\n",
        "  clf_Mult.fit(X_train,y_train)\n",
        "  clf_compl.fit(X_train,y_train)\n",
        "\n",
        "  #Hacemos las predicciones sobre el conjunto del test\n",
        "  y_pred_Mult=clf_Mult.predict(X_test)\n",
        "  y_pred_compl=clf_compl.predict(X_test)\n",
        "\n",
        "  #Calculamos el F1-Score macro para ambos modelos\n",
        "  f1_m=f1_score(y_test,y_pred_Mult,average='macro')\n",
        "  f1_c=f1_score(y_test,y_pred_compl,average='macro')\n",
        "\n",
        "  #Imprimimos los resultados\n",
        "  print(f'Alpha={alpha:.2f}| MultinomialNB: {f1_m:.4f} | ComplementNB: {f1_c:.4f}')"
      ],
      "metadata": {
        "colab": {
          "base_uri": "https://localhost:8080/"
        },
        "id": "YK_ARyEJZJNW",
        "outputId": "6fafeda2-29fb-4091-f002-5382f8eb8885"
      },
      "execution_count": 38,
      "outputs": [
        {
          "output_type": "stream",
          "name": "stdout",
          "text": [
            "Alpha=0.05| MultinomialNB: 0.6166 | ComplementNB: 0.6294\n",
            "Alpha=0.10| MultinomialNB: 0.6188 | ComplementNB: 0.6306\n",
            "Alpha=0.15| MultinomialNB: 0.6174 | ComplementNB: 0.6309\n",
            "Alpha=0.20| MultinomialNB: 0.6166 | ComplementNB: 0.6314\n",
            "Alpha=0.25| MultinomialNB: 0.6119 | ComplementNB: 0.6313\n"
          ]
        }
      ]
    },
    {
      "cell_type": "markdown",
      "source": [
        "Podemos notar que ComplementNB tiene mejor rendimiento que MultinomialNB en todas los valores de alpha que se probaron."
      ],
      "metadata": {
        "id": "GStzNiw6aXKW"
      }
    },
    {
      "cell_type": "markdown",
      "source": [
        "Probe los dos modelos con distintos valores de alpha para ver cual clasificaba mejor, usando F1-Score macro como metrica porque tieneen cuenta todas las clases por igual.\n",
        "En todos los casos, el modelo ComplementNB dio mejores resultados, y el mejorfue alpha=0.20, que llego a un f1-score=0.6314. Mostrando que ese modelo funciona mejor con ese tipo de datos"
      ],
      "metadata": {
        "id": "KfVygr-caaK9"
      }
    },
    {
      "cell_type": "markdown",
      "source": [
        "\n",
        "\n",
        "**3**. Transponer la matriz documento-término. De esa manera se obtiene una matriz\n",
        "término-documento que puede ser interpretada como una colección de vectorización de palabras.\n",
        "Estudiar ahora similaridad entre palabras tomando 5 palabras y estudiando sus 5 más similares. **La elección de palabras no debe ser al azar para evitar la aparición de términos poco interpretables, elegirlas \"manualmente\"**."
      ],
      "metadata": {
        "id": "JS1u_5kle7U8"
      }
    },
    {
      "cell_type": "code",
      "source": [
        "import numpy as np\n",
        "import pandas as pd\n",
        "from sklearn.datasets import fetch_20newsgroups\n",
        "from sklearn.feature_extraction.text import CountVectorizer\n",
        "from sklearn.metrics.pairwise import cosine_similarity\n",
        "\n",
        "#categorías seleccionadas del dataset\n",
        "categories = [\n",
        "    'sci.med', #medicina\n",
        "    'rec.autos', #autos\n",
        "    'comp.sys.mac.hardware', #hardware de Mac\n",
        "    'alt.atheism', #ateismo\n",
        "    'sci.crypt' #criptografia\n",
        "]\n",
        "\n",
        "#cargamos corpus de textos (limitamos a 100 documentos para velocidad)\n",
        "newsgroups = fetch_20newsgroups(subset='train', categories=categories, remove=('headers', 'footers', 'quotes'))\n",
        "corpus = newsgroups.data[:100]\n",
        "\n",
        "#vectorizamos el texto del corpus\n",
        "vectorizer = CountVectorizer(stop_words='english') #ignora palabras comnes como 'the', 'and', etc\n",
        "X = vectorizer.fit_transform(corpus)#aplica la vectorizacion al corpus\n",
        "dtm = pd.DataFrame(X.toarray(), columns=vectorizer.get_feature_names_out())\n",
        "\n",
        "#trnasponemos: DTM para tener la TDM, donde las filas son palabras\n",
        "tdm = dtm.T\n",
        "\n",
        "#palabras seleccionadas\n",
        "palabras_interes = [\"medicine\", \"car\", \"mac\", \"drug\", \"encryption\"]\n",
        "#filtro para ver si als palabras si estan en la TDM\n",
        "palabras_validas = [p for p in palabras_interes if p in tdm.index]\n",
        "\n",
        "#calculamos similitud de coseno entre las palabras seleccionadas y las demas palabras\n",
        "similaridades = cosine_similarity(tdm.loc[palabras_validas], tdm)\n",
        "#creamo un df con los resultados\n",
        "similaridades_df = pd.DataFrame(similaridades, index=palabras_validas, columns=tdm.index)\n",
        "\n",
        "#mostramos las 5 palabras más similares para cada palabra clave\n",
        "for palabra in palabras_validas:\n",
        "    print(f\"\\nPalabra clave: {palabra}\")\n",
        "    similares = similaridades_df.loc[palabra].sort_values(ascending=False)[1:6]\n",
        "    print(similares)"
      ],
      "metadata": {
        "id": "tl4pWk86YHie",
        "colab": {
          "base_uri": "https://localhost:8080/"
        },
        "outputId": "8916acae-f5fb-4986-d859-f412beaeebeb"
      },
      "execution_count": 40,
      "outputs": [
        {
          "output_type": "stream",
          "name": "stdout",
          "text": [
            "\n",
            "Palabra clave: medicine\n",
            "surpress      0.96225\n",
            "absolutely    0.96225\n",
            "aritcle       0.96225\n",
            "deeply        0.96225\n",
            "swiss         0.96225\n",
            "Name: medicine, dtype: float64\n",
            "\n",
            "Palabra clave: car\n",
            "actually    0.969363\n",
            "owned       0.898478\n",
            "calling     0.896922\n",
            "careful     0.896922\n",
            "100k        0.896922\n",
            "Name: car, dtype: float64\n",
            "\n",
            "Palabra clave: mac\n",
            "mac         1.000000\n",
            "software    0.750000\n",
            "apple       0.731925\n",
            "cabling     0.707107\n",
            "2775        0.707107\n",
            "Name: mac, dtype: float64\n",
            "\n",
            "Palabra clave: drug\n",
            "dealers       0.816497\n",
            "protection    0.816497\n",
            "encryption    0.800641\n",
            "plenty        0.707107\n",
            "annul         0.707107\n",
            "Name: drug, dtype: float64\n",
            "\n",
            "Palabra clave: encryption\n",
            "wants           0.880705\n",
            "cryptography    0.818587\n",
            "length          0.810191\n",
            "drug            0.800641\n",
            "secret          0.708918\n",
            "Name: encryption, dtype: float64\n"
          ]
        }
      ]
    },
    {
      "cell_type": "markdown",
      "source": [
        "Podemos ver lo siguiente:\n",
        "\n",
        "> **medicine**: Aparecen palabras como [surpess, deeply, swiss] que no son terminos medicos directos, pero se nota que son parte del mismo contexto en el que se habla en medicina.\n",
        "\n",
        "> **car**: Se asocian las palabras [owned, 100k, careful] que claramente estan relacionadas\n",
        "\n",
        "> **mac**: Tambien presenta palabras profundamente relacionadas como [apple, software, cablin], lo caul muestra que el modelo entendio bien el contexto tecnologico.\n",
        "\n",
        "> **drug**: Aparecen palabras como [dealers,protection y encryption]\n",
        "\n",
        "> **encryption**: Tiene una relacion fuerte con [crtiptography, secret, lenght], palabras fuertemente relacionadas con el cifrado de datos. Ademas se conecta con [drug] lo que sugiere que en textos esos temas aparecen juntos, por debates sobre privacidad, seguridad, etc.\n"
      ],
      "metadata": {
        "id": "Q0stHyW3eLt-"
      }
    },
    {
      "cell_type": "markdown",
      "source": [
        "###En conclusion podemos decir que la **similitud de coseno** funciona bien para encontrar palabras que comparten significado."
      ],
      "metadata": {
        "id": "PJk588iVgolT"
      }
    }
  ],
  "metadata": {
    "colab": {
      "provenance": []
    },
    "kernelspec": {
      "display_name": "Python 3",
      "name": "python3"
    },
    "language_info": {
      "name": "python"
    }
  },
  "nbformat": 4,
  "nbformat_minor": 0
}